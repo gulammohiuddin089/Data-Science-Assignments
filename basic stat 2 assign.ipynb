{
 "cells": [
  {
   "cell_type": "markdown",
   "id": "d8275c7d-ffe5-43e5-ae1b-3060c267c776",
   "metadata": {},
   "source": [
    "# Estimation And Confidence Intervals\n"
   ]
  },
  {
   "cell_type": "markdown",
   "id": "e80c6960-5ee2-4510-bc53-4e36f6b993ca",
   "metadata": {},
   "source": [
    "\n",
    "# Background\n",
    "\n",
    "In quality control processes, especially when dealing with high-value items, destructive sampling is a necessary but costly method to ensure product quality. The test to determine whether an item meets the quality standards destroys the item, leading to the requirement of small sample sizes due to cost constraints.\n",
    "\n",
    "   # Scenario\n",
    "\n",
    "    A manufacturer of print-heads for personal computers is interested in estimating the mean durability of their print-heads in terms of the number of characters printed before failure. To assess this, the manufacturer conducts a study on a small sample of print-heads due to the destructive nature of the testing process.\n",
    "\n",
    "# Data\n",
    "\n",
    "A total of 15 print-heads were randomly selected and tested until failure. The durability of each print-head (in millions of characters) was recorded as follows:\n",
    "1.13, 1.55, 1.43, 0.92, 1.25, 1.36, 1.32, 0.85, 1.07, 1.48, 1.20, 1.33, 1.18, 1.22, 1.29\n"
   ]
  },
  {
   "cell_type": "markdown",
   "id": "c3400e8f-1d2d-4ec8-81ec-29d81404aa9b",
   "metadata": {},
   "source": [
    "# a. Build 99% Confidence Interval Using Sample Standard Deviation\n",
    "Assuming the sample is representative of the population, construct a 99% confidence interval for the mean number of characters printed before the print-head fails using the sample standard deviation. Explain the steps you take and the rationale behind using the t-distribution for this task.\n"
   ]
  },
  {
   "cell_type": "code",
   "execution_count": 2,
   "id": "de7acacc-efb4-462e-b799-9016eff61da4",
   "metadata": {},
   "outputs": [],
   "source": [
    "import numpy as np\n",
    "import scipy.stats as stats"
   ]
  },
  {
   "cell_type": "code",
   "execution_count": 3,
   "id": "98d42eb9-43c6-4c7a-9bdc-818dfa9ab0b4",
   "metadata": {},
   "outputs": [],
   "source": [
    "# Durability data (in millions of characters)\n",
    "durability = [1.13, 1.55, 1.43, 0.92, 1.25, 1.36, 1.32, 0.85, 1.07, 1.48, 1.20, 1.33, 1.18, 1.22, 1.29]\n"
   ]
  },
  {
   "cell_type": "code",
   "execution_count": 4,
   "id": "9631541b-172e-4cd0-95f6-8fed5e97baeb",
   "metadata": {},
   "outputs": [],
   "source": [
    "# Calculate sample mean\n",
    "mean = np.mean(durability)"
   ]
  },
  {
   "cell_type": "code",
   "execution_count": 7,
   "id": "136118a6-e06d-46d5-9c46-331defb28806",
   "metadata": {},
   "outputs": [],
   "source": [
    "# Calculate sample standard deviation\n",
    "std_dev = np.std(durability, ddof=1)  # ddof=1 to use sample standard deviation\n"
   ]
  },
  {
   "cell_type": "code",
   "execution_count": 8,
   "id": "e672d860-a141-4c3d-996f-d5e64c57f31e",
   "metadata": {},
   "outputs": [],
   "source": [
    "# Sample size\n",
    "n = len(durability)"
   ]
  },
  {
   "cell_type": "code",
   "execution_count": 9,
   "id": "d16101b8-8334-4e31-a034-a6dedfac6c43",
   "metadata": {},
   "outputs": [],
   "source": [
    "# Degrees of freedom\n",
    "df = n - 1\n"
   ]
  },
  {
   "cell_type": "code",
   "execution_count": 10,
   "id": "7c611671-3f7a-484a-91a2-700653870c8a",
   "metadata": {},
   "outputs": [],
   "source": [
    "# Confidence level\n",
    "confidence_level = 0.99"
   ]
  },
  {
   "cell_type": "code",
   "execution_count": 11,
   "id": "b8cf3854-39ef-424d-adef-fe213c54a223",
   "metadata": {},
   "outputs": [],
   "source": [
    "# Critical t-value\n",
    "t_critical = stats.t.ppf((1 + confidence_level) / 2, df)\n"
   ]
  },
  {
   "cell_type": "code",
   "execution_count": 12,
   "id": "ed7a2aac-1cf4-4c37-8b7b-3c0c29f7d15c",
   "metadata": {},
   "outputs": [],
   "source": [
    "# Standard Error\n",
    "standard_error = std_dev / np.sqrt(n)\n"
   ]
  },
  {
   "cell_type": "code",
   "execution_count": 13,
   "id": "3e3e8f06-e9fb-4922-8832-f0a7fa398e62",
   "metadata": {},
   "outputs": [],
   "source": [
    "# Margin of error\n",
    "margin_of_error = t_critical * standard_error"
   ]
  },
  {
   "cell_type": "code",
   "execution_count": 14,
   "id": "e751b254-5fbe-4300-bcd8-391853b4385b",
   "metadata": {},
   "outputs": [],
   "source": [
    "# Confidence Interval\n",
    "confidence_interval = (mean - margin_of_error, mean + margin_of_error)"
   ]
  },
  {
   "cell_type": "code",
   "execution_count": 15,
   "id": "3eafb8b3-3518-4eb4-8200-13827ad0959f",
   "metadata": {},
   "outputs": [
    {
     "name": "stdout",
     "output_type": "stream",
     "text": [
      "Sample Mean: 1.2387\n",
      "Sample Standard Deviation: 0.1932\n",
      "Degrees of Freedom: 14\n",
      "Critical t-value: 2.9768\n",
      "Standard Error: 0.0499\n",
      "Margin of Error: 0.1485\n",
      "99% Confidence Interval: (1.090197338451367, 1.3871359948819662)\n"
     ]
    }
   ],
   "source": [
    "print(f\"Sample Mean: {mean:.4f}\")\n",
    "print(f\"Sample Standard Deviation: {std_dev:.4f}\")\n",
    "print(f\"Degrees of Freedom: {df}\")\n",
    "print(f\"Critical t-value: {t_critical:.4f}\")\n",
    "print(f\"Standard Error: {standard_error:.4f}\")\n",
    "print(f\"Margin of Error: {margin_of_error:.4f}\")\n",
    "print(f\"99% Confidence Interval: {confidence_interval}\")"
   ]
  },
  {
   "cell_type": "markdown",
   "id": "3a838b58-01bb-43aa-a379-a56008ae8602",
   "metadata": {},
   "source": [
    "# Rationale for Using the t-Distribution\r\n",
    "1)\n",
    "Small Sample Size: The sample size is small (n = 15). The t-distribution is more appropriate than the normal distribution for small sample sizes because it provides a more accurate estimate by accounting for the extra variability.\n",
    "2)\r\n",
    "Unknown Population Standard Deviation: The population standard deviation is unknown, so we use the sample standard deviation as an estimate. The t-distribution is used instead of the normal distribution to adjust for this estimatio, resulting in a wider and more conservative confidence intva"
   ]
  },
  {
   "cell_type": "markdown",
   "id": "4c0e0f04-7d96-46b4-9e89-5b6fe55759df",
   "metadata": {},
   "source": [
    "# b. Build 99% Confidence Interval Using Known Population Standard Deviation\n",
    "If it were known that the population standard deviation is 0.2 million characters, construct a 99% confidence interval for the mean number of characters printed before failure.\n"
   ]
  },
  {
   "cell_type": "code",
   "execution_count": 16,
   "id": "be6fd9e8-a847-4296-94fd-be54bfdf1c89",
   "metadata": {},
   "outputs": [
    {
     "name": "stdout",
     "output_type": "stream",
     "text": [
      "Sample Mean: 1.2387\n",
      "Known Population Standard Deviation: 0.2\n",
      "Sample Size: 15\n",
      "Critical z-value: 2.5758\n",
      "Standard Error: 0.0516\n",
      "Margin of Error: 0.1330\n",
      "99% Confidence Interval: (1.1056514133957607, 1.3716819199375725)\n"
     ]
    }
   ],
   "source": [
    "import numpy as np\n",
    "import scipy.stats as stats\n",
    "\n",
    "# Durability data (in millions of characters)\n",
    "durability = [1.13, 1.55, 1.43, 0.92, 1.25, 1.36, 1.32, 0.85, 1.07, 1.48, 1.20, 1.33, 1.18, 1.22, 1.29]\n",
    "\n",
    "# Calculate sample mean\n",
    "mean = np.mean(durability)\n",
    "\n",
    "# Known population standard deviation\n",
    "population_std_dev = 0.2\n",
    "\n",
    "# Sample size\n",
    "n = len(durability)\n",
    "\n",
    "# Confidence level\n",
    "confidence_level = 0.99\n",
    "\n",
    "# Critical z-value for 99% confidence\n",
    "z_critical = stats.norm.ppf((1 + confidence_level) / 2)\n",
    "\n",
    "# Standard Error\n",
    "standard_error = population_std_dev / np.sqrt(n)\n",
    "\n",
    "# Margin of error\n",
    "margin_of_error = z_critical * standard_error\n",
    "\n",
    "# Confidence Interval\n",
    "confidence_interval = (mean - margin_of_error, mean + margin_of_error)\n",
    "\n",
    "print(f\"Sample Mean: {mean:.4f}\")\n",
    "print(f\"Known Population Standard Deviation: {population_std_dev}\")\n",
    "print(f\"Sample Size: {n}\")\n",
    "print(f\"Critical z-value: {z_critical:.4f}\")\n",
    "print(f\"Standard Error: {standard_error:.4f}\")\n",
    "print(f\"Margin of Error: {margin_of_error:.4f}\")\n",
    "print(f\"99% Confidence Interval: {confidence_interval}\")"
   ]
  },
  {
   "cell_type": "code",
   "execution_count": null,
   "id": "22a109e3-dbdb-4436-af3b-85009754db8a",
   "metadata": {},
   "outputs": [],
   "source": []
  }
 ],
 "metadata": {
  "kernelspec": {
   "display_name": "Python 3 (ipykernel)",
   "language": "python",
   "name": "python3"
  },
  "language_info": {
   "codemirror_mode": {
    "name": "ipython",
    "version": 3
   },
   "file_extension": ".py",
   "mimetype": "text/x-python",
   "name": "python",
   "nbconvert_exporter": "python",
   "pygments_lexer": "ipython3",
   "version": "3.11.7"
  }
 },
 "nbformat": 4,
 "nbformat_minor": 5
}
