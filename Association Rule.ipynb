{
 "cells": [
  {
   "cell_type": "markdown",
   "id": "a54aa498-5671-48fc-b16a-1c4926d6c5cd",
   "metadata": {},
   "source": [
    "# Association Rules\n"
   ]
  },
  {
   "cell_type": "markdown",
   "id": "86837b7e-9a79-4058-bc69-d4aab1d9be7f",
   "metadata": {},
   "source": [
    "# Data Preprocessing:\n",
    "\n",
    "Pre-process the dataset to ensure it is suitable for Association rules, this may include handling missing values, removing duplicates, and converting the data to appropriate format.  \n"
   ]
  },
  {
   "cell_type": "code",
   "execution_count": 23,
   "id": "808cf4d0-f53c-4802-b948-869f8144b66c",
   "metadata": {},
   "outputs": [],
   "source": [
    "import pandas as pd\n",
    "from mlxtend.preprocessing import TransactionEncoder\n",
    "from mlxtend.frequent_patterns import apriori\n",
    "from mlxtend.frequent_patterns import association_rules\n"
   ]
  },
  {
   "cell_type": "code",
   "execution_count": 11,
   "id": "6a5d1c55-a635-4c67-b718-0ebeba0bd93d",
   "metadata": {},
   "outputs": [
    {
     "data": {
      "text/html": [
       "<div>\n",
       "<style scoped>\n",
       "    .dataframe tbody tr th:only-of-type {\n",
       "        vertical-align: middle;\n",
       "    }\n",
       "\n",
       "    .dataframe tbody tr th {\n",
       "        vertical-align: top;\n",
       "    }\n",
       "\n",
       "    .dataframe thead th {\n",
       "        text-align: right;\n",
       "    }\n",
       "</style>\n",
       "<table border=\"1\" class=\"dataframe\">\n",
       "  <thead>\n",
       "    <tr style=\"text-align: right;\">\n",
       "      <th></th>\n",
       "      <th>shrimp,almonds,avocado,vegetables mix,green grapes,whole weat flour,yams,cottage cheese,energy drink,tomato juice,low fat yogurt,green tea,honey,salad,mineral water,salmon,antioxydant juice,frozen smoothie,spinach,olive oil</th>\n",
       "    </tr>\n",
       "  </thead>\n",
       "  <tbody>\n",
       "    <tr>\n",
       "      <th>0</th>\n",
       "      <td>burgers,meatballs,eggs</td>\n",
       "    </tr>\n",
       "    <tr>\n",
       "      <th>1</th>\n",
       "      <td>chutney</td>\n",
       "    </tr>\n",
       "    <tr>\n",
       "      <th>2</th>\n",
       "      <td>turkey,avocado</td>\n",
       "    </tr>\n",
       "    <tr>\n",
       "      <th>3</th>\n",
       "      <td>mineral water,milk,energy bar,whole wheat rice...</td>\n",
       "    </tr>\n",
       "    <tr>\n",
       "      <th>4</th>\n",
       "      <td>low fat yogurt</td>\n",
       "    </tr>\n",
       "    <tr>\n",
       "      <th>...</th>\n",
       "      <td>...</td>\n",
       "    </tr>\n",
       "    <tr>\n",
       "      <th>7495</th>\n",
       "      <td>butter,light mayo,fresh bread</td>\n",
       "    </tr>\n",
       "    <tr>\n",
       "      <th>7496</th>\n",
       "      <td>burgers,frozen vegetables,eggs,french fries,ma...</td>\n",
       "    </tr>\n",
       "    <tr>\n",
       "      <th>7497</th>\n",
       "      <td>chicken</td>\n",
       "    </tr>\n",
       "    <tr>\n",
       "      <th>7498</th>\n",
       "      <td>escalope,green tea</td>\n",
       "    </tr>\n",
       "    <tr>\n",
       "      <th>7499</th>\n",
       "      <td>eggs,frozen smoothie,yogurt cake,low fat yogurt</td>\n",
       "    </tr>\n",
       "  </tbody>\n",
       "</table>\n",
       "<p>7500 rows × 1 columns</p>\n",
       "</div>"
      ],
      "text/plain": [
       "     shrimp,almonds,avocado,vegetables mix,green grapes,whole weat flour,yams,cottage cheese,energy drink,tomato juice,low fat yogurt,green tea,honey,salad,mineral water,salmon,antioxydant juice,frozen smoothie,spinach,olive oil\n",
       "0                                burgers,meatballs,eggs                                                                                                                                                                             \n",
       "1                                               chutney                                                                                                                                                                             \n",
       "2                                        turkey,avocado                                                                                                                                                                             \n",
       "3     mineral water,milk,energy bar,whole wheat rice...                                                                                                                                                                             \n",
       "4                                        low fat yogurt                                                                                                                                                                             \n",
       "...                                                 ...                                                                                                                                                                             \n",
       "7495                      butter,light mayo,fresh bread                                                                                                                                                                             \n",
       "7496  burgers,frozen vegetables,eggs,french fries,ma...                                                                                                                                                                             \n",
       "7497                                            chicken                                                                                                                                                                             \n",
       "7498                                 escalope,green tea                                                                                                                                                                             \n",
       "7499    eggs,frozen smoothie,yogurt cake,low fat yogurt                                                                                                                                                                             \n",
       "\n",
       "[7500 rows x 1 columns]"
      ]
     },
     "execution_count": 11,
     "metadata": {},
     "output_type": "execute_result"
    }
   ],
   "source": [
    "# Load the dataset\n",
    "file_path = r'C:\\Users\\amerk\\assignment folder\\Online retail.xlsx'  \n",
    "df = pd.read_excel(file_path, sheet_name='Sheet1')\n",
    "df"
   ]
  },
  {
   "cell_type": "code",
   "execution_count": 12,
   "id": "29a913f6-fc39-4d51-a3f6-d71fe752a288",
   "metadata": {},
   "outputs": [
    {
     "data": {
      "text/html": [
       "<div>\n",
       "<style scoped>\n",
       "    .dataframe tbody tr th:only-of-type {\n",
       "        vertical-align: middle;\n",
       "    }\n",
       "\n",
       "    .dataframe tbody tr th {\n",
       "        vertical-align: top;\n",
       "    }\n",
       "\n",
       "    .dataframe thead th {\n",
       "        text-align: right;\n",
       "    }\n",
       "</style>\n",
       "<table border=\"1\" class=\"dataframe\">\n",
       "  <thead>\n",
       "    <tr style=\"text-align: right;\">\n",
       "      <th></th>\n",
       "      <th>shrimp,almonds,avocado,vegetables mix,green grapes,whole weat flour,yams,cottage cheese,energy drink,tomato juice,low fat yogurt,green tea,honey,salad,mineral water,salmon,antioxydant juice,frozen smoothie,spinach,olive oil</th>\n",
       "    </tr>\n",
       "  </thead>\n",
       "  <tbody>\n",
       "    <tr>\n",
       "      <th>0</th>\n",
       "      <td>burgers,meatballs,eggs</td>\n",
       "    </tr>\n",
       "    <tr>\n",
       "      <th>1</th>\n",
       "      <td>chutney</td>\n",
       "    </tr>\n",
       "    <tr>\n",
       "      <th>2</th>\n",
       "      <td>turkey,avocado</td>\n",
       "    </tr>\n",
       "    <tr>\n",
       "      <th>3</th>\n",
       "      <td>mineral water,milk,energy bar,whole wheat rice...</td>\n",
       "    </tr>\n",
       "    <tr>\n",
       "      <th>4</th>\n",
       "      <td>low fat yogurt</td>\n",
       "    </tr>\n",
       "  </tbody>\n",
       "</table>\n",
       "</div>"
      ],
      "text/plain": [
       "  shrimp,almonds,avocado,vegetables mix,green grapes,whole weat flour,yams,cottage cheese,energy drink,tomato juice,low fat yogurt,green tea,honey,salad,mineral water,salmon,antioxydant juice,frozen smoothie,spinach,olive oil\n",
       "0                             burgers,meatballs,eggs                                                                                                                                                                             \n",
       "1                                            chutney                                                                                                                                                                             \n",
       "2                                     turkey,avocado                                                                                                                                                                             \n",
       "3  mineral water,milk,energy bar,whole wheat rice...                                                                                                                                                                             \n",
       "4                                     low fat yogurt                                                                                                                                                                             "
      ]
     },
     "execution_count": 12,
     "metadata": {},
     "output_type": "execute_result"
    }
   ],
   "source": [
    "# Display the first few rows of the dataset\n",
    "df.head()"
   ]
  },
  {
   "cell_type": "markdown",
   "id": "33748bc7-b22f-4ce5-b389-cf362925bdec",
   "metadata": {},
   "source": [
    "# Split Items"
   ]
  },
  {
   "cell_type": "code",
   "execution_count": 14,
   "id": "954067b6-feec-4f08-8d00-0b1bc4cd1ce3",
   "metadata": {},
   "outputs": [
    {
     "name": "stdout",
     "output_type": "stream",
     "text": [
      "[['burgers', 'meatballs', 'eggs'], ['chutney'], ['turkey', 'avocado'], ['mineral water', 'milk', 'energy bar', 'whole wheat rice', 'green tea'], ['low fat yogurt']]\n"
     ]
    }
   ],
   "source": [
    "# Split the single column into multiple items\n",
    "df['Items'] = df.iloc[:, 0].str.split(',')\n",
    "\n",
    "# Convert the DataFrame to a list of transactions\n",
    "transactions = df['Items'].tolist()\n",
    "\n",
    "# Display a sample of transactions\n",
    "print(transactions[:5])\n"
   ]
  },
  {
   "cell_type": "markdown",
   "id": "76d00d28-c9d8-490b-b0c9-9486d70e9386",
   "metadata": {},
   "source": [
    "# Handle Missing Values"
   ]
  },
  {
   "cell_type": "code",
   "execution_count": 15,
   "id": "c053a6af-b0f2-4b2e-9beb-3055345bba13",
   "metadata": {},
   "outputs": [
    {
     "name": "stdout",
     "output_type": "stream",
     "text": [
      "[['burgers', 'meatballs', 'eggs'], ['chutney'], ['turkey', 'avocado'], ['mineral water', 'milk', 'energy bar', 'whole wheat rice', 'green tea'], ['low fat yogurt']]\n"
     ]
    }
   ],
   "source": [
    "# Remove transactions that contain missing values\n",
    "transactions = [transaction for transaction in transactions if None not in transaction and '' not in transaction]\n",
    "\n",
    "# Display the cleaned transactions\n",
    "print(transactions[:5])"
   ]
  },
  {
   "cell_type": "markdown",
   "id": "293f78f3-500a-4164-82e0-f4a4bed1a752",
   "metadata": {},
   "source": [
    "# Remove Duplicates"
   ]
  },
  {
   "cell_type": "code",
   "execution_count": 16,
   "id": "1d57f454-fee2-498c-95c4-27ecf835672a",
   "metadata": {},
   "outputs": [
    {
     "name": "stdout",
     "output_type": "stream",
     "text": [
      "[['eggs', 'meatballs', 'burgers'], ['chutney'], ['avocado', 'turkey'], ['green tea', 'whole wheat rice', 'mineral water', 'milk', 'energy bar'], ['low fat yogurt']]\n"
     ]
    }
   ],
   "source": [
    "# Remove duplicate transactions\n",
    "transactions = [list(set(transaction)) for transaction in transactions]\n",
    "\n",
    "# Display the transactions after removing duplicates\n",
    "print(transactions[:5])"
   ]
  },
  {
   "cell_type": "markdown",
   "id": "908c8c4f-fa56-42a4-a6ff-0c59a7120681",
   "metadata": {},
   "source": [
    "# Convert to One-Hot Encoding"
   ]
  },
  {
   "cell_type": "code",
   "execution_count": 20,
   "id": "25a3b7bf-3cdb-4aa5-b8a3-9cbdb7e94d8f",
   "metadata": {},
   "outputs": [
    {
     "data": {
      "text/html": [
       "<div>\n",
       "<style scoped>\n",
       "    .dataframe tbody tr th:only-of-type {\n",
       "        vertical-align: middle;\n",
       "    }\n",
       "\n",
       "    .dataframe tbody tr th {\n",
       "        vertical-align: top;\n",
       "    }\n",
       "\n",
       "    .dataframe thead th {\n",
       "        text-align: right;\n",
       "    }\n",
       "</style>\n",
       "<table border=\"1\" class=\"dataframe\">\n",
       "  <thead>\n",
       "    <tr style=\"text-align: right;\">\n",
       "      <th></th>\n",
       "      <th>asparagus</th>\n",
       "      <th>almonds</th>\n",
       "      <th>antioxydant juice</th>\n",
       "      <th>asparagus</th>\n",
       "      <th>avocado</th>\n",
       "      <th>babies food</th>\n",
       "      <th>bacon</th>\n",
       "      <th>barbecue sauce</th>\n",
       "      <th>black tea</th>\n",
       "      <th>blueberries</th>\n",
       "      <th>...</th>\n",
       "      <th>turkey</th>\n",
       "      <th>vegetables mix</th>\n",
       "      <th>water spray</th>\n",
       "      <th>white wine</th>\n",
       "      <th>whole weat flour</th>\n",
       "      <th>whole wheat pasta</th>\n",
       "      <th>whole wheat rice</th>\n",
       "      <th>yams</th>\n",
       "      <th>yogurt cake</th>\n",
       "      <th>zucchini</th>\n",
       "    </tr>\n",
       "  </thead>\n",
       "  <tbody>\n",
       "    <tr>\n",
       "      <th>0</th>\n",
       "      <td>False</td>\n",
       "      <td>False</td>\n",
       "      <td>False</td>\n",
       "      <td>False</td>\n",
       "      <td>False</td>\n",
       "      <td>False</td>\n",
       "      <td>False</td>\n",
       "      <td>False</td>\n",
       "      <td>False</td>\n",
       "      <td>False</td>\n",
       "      <td>...</td>\n",
       "      <td>False</td>\n",
       "      <td>False</td>\n",
       "      <td>False</td>\n",
       "      <td>False</td>\n",
       "      <td>False</td>\n",
       "      <td>False</td>\n",
       "      <td>False</td>\n",
       "      <td>False</td>\n",
       "      <td>False</td>\n",
       "      <td>False</td>\n",
       "    </tr>\n",
       "    <tr>\n",
       "      <th>1</th>\n",
       "      <td>False</td>\n",
       "      <td>False</td>\n",
       "      <td>False</td>\n",
       "      <td>False</td>\n",
       "      <td>False</td>\n",
       "      <td>False</td>\n",
       "      <td>False</td>\n",
       "      <td>False</td>\n",
       "      <td>False</td>\n",
       "      <td>False</td>\n",
       "      <td>...</td>\n",
       "      <td>False</td>\n",
       "      <td>False</td>\n",
       "      <td>False</td>\n",
       "      <td>False</td>\n",
       "      <td>False</td>\n",
       "      <td>False</td>\n",
       "      <td>False</td>\n",
       "      <td>False</td>\n",
       "      <td>False</td>\n",
       "      <td>False</td>\n",
       "    </tr>\n",
       "    <tr>\n",
       "      <th>2</th>\n",
       "      <td>False</td>\n",
       "      <td>False</td>\n",
       "      <td>False</td>\n",
       "      <td>False</td>\n",
       "      <td>True</td>\n",
       "      <td>False</td>\n",
       "      <td>False</td>\n",
       "      <td>False</td>\n",
       "      <td>False</td>\n",
       "      <td>False</td>\n",
       "      <td>...</td>\n",
       "      <td>True</td>\n",
       "      <td>False</td>\n",
       "      <td>False</td>\n",
       "      <td>False</td>\n",
       "      <td>False</td>\n",
       "      <td>False</td>\n",
       "      <td>False</td>\n",
       "      <td>False</td>\n",
       "      <td>False</td>\n",
       "      <td>False</td>\n",
       "    </tr>\n",
       "    <tr>\n",
       "      <th>3</th>\n",
       "      <td>False</td>\n",
       "      <td>False</td>\n",
       "      <td>False</td>\n",
       "      <td>False</td>\n",
       "      <td>False</td>\n",
       "      <td>False</td>\n",
       "      <td>False</td>\n",
       "      <td>False</td>\n",
       "      <td>False</td>\n",
       "      <td>False</td>\n",
       "      <td>...</td>\n",
       "      <td>False</td>\n",
       "      <td>False</td>\n",
       "      <td>False</td>\n",
       "      <td>False</td>\n",
       "      <td>False</td>\n",
       "      <td>False</td>\n",
       "      <td>True</td>\n",
       "      <td>False</td>\n",
       "      <td>False</td>\n",
       "      <td>False</td>\n",
       "    </tr>\n",
       "    <tr>\n",
       "      <th>4</th>\n",
       "      <td>False</td>\n",
       "      <td>False</td>\n",
       "      <td>False</td>\n",
       "      <td>False</td>\n",
       "      <td>False</td>\n",
       "      <td>False</td>\n",
       "      <td>False</td>\n",
       "      <td>False</td>\n",
       "      <td>False</td>\n",
       "      <td>False</td>\n",
       "      <td>...</td>\n",
       "      <td>False</td>\n",
       "      <td>False</td>\n",
       "      <td>False</td>\n",
       "      <td>False</td>\n",
       "      <td>False</td>\n",
       "      <td>False</td>\n",
       "      <td>False</td>\n",
       "      <td>False</td>\n",
       "      <td>False</td>\n",
       "      <td>False</td>\n",
       "    </tr>\n",
       "  </tbody>\n",
       "</table>\n",
       "<p>5 rows × 120 columns</p>\n",
       "</div>"
      ],
      "text/plain": [
       "    asparagus  almonds  antioxydant juice  asparagus  avocado  babies food  \\\n",
       "0       False    False              False      False    False        False   \n",
       "1       False    False              False      False    False        False   \n",
       "2       False    False              False      False     True        False   \n",
       "3       False    False              False      False    False        False   \n",
       "4       False    False              False      False    False        False   \n",
       "\n",
       "   bacon  barbecue sauce  black tea  blueberries  ...  turkey  vegetables mix  \\\n",
       "0  False           False      False        False  ...   False           False   \n",
       "1  False           False      False        False  ...   False           False   \n",
       "2  False           False      False        False  ...    True           False   \n",
       "3  False           False      False        False  ...   False           False   \n",
       "4  False           False      False        False  ...   False           False   \n",
       "\n",
       "   water spray  white wine  whole weat flour  whole wheat pasta  \\\n",
       "0        False       False             False              False   \n",
       "1        False       False             False              False   \n",
       "2        False       False             False              False   \n",
       "3        False       False             False              False   \n",
       "4        False       False             False              False   \n",
       "\n",
       "   whole wheat rice   yams  yogurt cake  zucchini  \n",
       "0             False  False        False     False  \n",
       "1             False  False        False     False  \n",
       "2             False  False        False     False  \n",
       "3              True  False        False     False  \n",
       "4             False  False        False     False  \n",
       "\n",
       "[5 rows x 120 columns]"
      ]
     },
     "execution_count": 20,
     "metadata": {},
     "output_type": "execute_result"
    }
   ],
   "source": [
    "# Convert transactions to one-hot encoded DataFrame\n",
    "te = TransactionEncoder()\n",
    "te_ary = te.fit(transactions).transform(transactions)\n",
    "df_trans = pd.DataFrame(te_ary, columns=te.columns_)\n",
    "\n",
    "# Display the one-hot encoded DataFrame\n",
    "df_trans.head()"
   ]
  },
  {
   "cell_type": "markdown",
   "id": "a20124a5-1ac1-4fb8-9b4e-5fc8d1404834",
   "metadata": {},
   "source": [
    "# Association Rule Mining:\n",
    "\n",
    "1) Implement an Apriori algorithm using tool like python with libraries such as Pandas and Mlxtend etc.\n",
    "\n",
    "2) Apply association rule mining techniques to the pre-processed dataset to discover interesting relationships between products purchased together.\n",
    "\n",
    "3) Set appropriate threshold for support, confidence and lift to extract meaning full rules.\n"
   ]
  },
  {
   "cell_type": "markdown",
   "id": "44cf34a5-7705-4e44-88f8-10c0997ffbe8",
   "metadata": {},
   "source": [
    "# Apply the Apriori Algorithm"
   ]
  },
  {
   "cell_type": "code",
   "execution_count": 22,
   "id": "0dbb2929-8d3d-4a09-ae3c-e84c81991c34",
   "metadata": {},
   "outputs": [
    {
     "data": {
      "text/html": [
       "<div>\n",
       "<style scoped>\n",
       "    .dataframe tbody tr th:only-of-type {\n",
       "        vertical-align: middle;\n",
       "    }\n",
       "\n",
       "    .dataframe tbody tr th {\n",
       "        vertical-align: top;\n",
       "    }\n",
       "\n",
       "    .dataframe thead th {\n",
       "        text-align: right;\n",
       "    }\n",
       "</style>\n",
       "<table border=\"1\" class=\"dataframe\">\n",
       "  <thead>\n",
       "    <tr style=\"text-align: right;\">\n",
       "      <th></th>\n",
       "      <th>support</th>\n",
       "      <th>itemsets</th>\n",
       "    </tr>\n",
       "  </thead>\n",
       "  <tbody>\n",
       "    <tr>\n",
       "      <th>0</th>\n",
       "      <td>0.020267</td>\n",
       "      <td>(almonds)</td>\n",
       "    </tr>\n",
       "    <tr>\n",
       "      <th>1</th>\n",
       "      <td>0.033200</td>\n",
       "      <td>(avocado)</td>\n",
       "    </tr>\n",
       "    <tr>\n",
       "      <th>2</th>\n",
       "      <td>0.010800</td>\n",
       "      <td>(barbecue sauce)</td>\n",
       "    </tr>\n",
       "    <tr>\n",
       "      <th>3</th>\n",
       "      <td>0.014267</td>\n",
       "      <td>(black tea)</td>\n",
       "    </tr>\n",
       "    <tr>\n",
       "      <th>4</th>\n",
       "      <td>0.011467</td>\n",
       "      <td>(body spray)</td>\n",
       "    </tr>\n",
       "  </tbody>\n",
       "</table>\n",
       "</div>"
      ],
      "text/plain": [
       "    support          itemsets\n",
       "0  0.020267         (almonds)\n",
       "1  0.033200         (avocado)\n",
       "2  0.010800  (barbecue sauce)\n",
       "3  0.014267       (black tea)\n",
       "4  0.011467      (body spray)"
      ]
     },
     "execution_count": 22,
     "metadata": {},
     "output_type": "execute_result"
    }
   ],
   "source": [
    "# Apply Apriori Algorithm with a minimum support threshold\n",
    "min_support = 0.01  # You can adjust this threshold\n",
    "frequent_itemsets = apriori(df_trans, min_support=min_support, use_colnames=True)\n",
    "\n",
    "# Display the frequent itemsets\n",
    "frequent_itemsets.head()"
   ]
  },
  {
   "cell_type": "markdown",
   "id": "0d8e4463-c8db-4f1c-8ebd-a14c8e39b081",
   "metadata": {},
   "source": [
    "# Generate and Filter Association Rules"
   ]
  },
  {
   "cell_type": "code",
   "execution_count": 24,
   "id": "03d82bf5-a17e-4a2c-ae42-a993d0d35fb3",
   "metadata": {},
   "outputs": [
    {
     "data": {
      "text/html": [
       "<div>\n",
       "<style scoped>\n",
       "    .dataframe tbody tr th:only-of-type {\n",
       "        vertical-align: middle;\n",
       "    }\n",
       "\n",
       "    .dataframe tbody tr th {\n",
       "        vertical-align: top;\n",
       "    }\n",
       "\n",
       "    .dataframe thead th {\n",
       "        text-align: right;\n",
       "    }\n",
       "</style>\n",
       "<table border=\"1\" class=\"dataframe\">\n",
       "  <thead>\n",
       "    <tr style=\"text-align: right;\">\n",
       "      <th></th>\n",
       "      <th>antecedents</th>\n",
       "      <th>consequents</th>\n",
       "      <th>antecedent support</th>\n",
       "      <th>consequent support</th>\n",
       "      <th>support</th>\n",
       "      <th>confidence</th>\n",
       "      <th>lift</th>\n",
       "      <th>leverage</th>\n",
       "      <th>conviction</th>\n",
       "      <th>zhangs_metric</th>\n",
       "    </tr>\n",
       "  </thead>\n",
       "  <tbody>\n",
       "    <tr>\n",
       "      <th>0</th>\n",
       "      <td>(eggs, ground beef)</td>\n",
       "      <td>(mineral water)</td>\n",
       "      <td>0.020</td>\n",
       "      <td>0.238267</td>\n",
       "      <td>0.010133</td>\n",
       "      <td>0.506667</td>\n",
       "      <td>2.126469</td>\n",
       "      <td>0.005368</td>\n",
       "      <td>1.544054</td>\n",
       "      <td>0.540548</td>\n",
       "    </tr>\n",
       "    <tr>\n",
       "      <th>1</th>\n",
       "      <td>(ground beef, milk)</td>\n",
       "      <td>(mineral water)</td>\n",
       "      <td>0.022</td>\n",
       "      <td>0.238267</td>\n",
       "      <td>0.011067</td>\n",
       "      <td>0.503030</td>\n",
       "      <td>2.111207</td>\n",
       "      <td>0.005825</td>\n",
       "      <td>1.532756</td>\n",
       "      <td>0.538177</td>\n",
       "    </tr>\n",
       "  </tbody>\n",
       "</table>\n",
       "</div>"
      ],
      "text/plain": [
       "           antecedents      consequents  antecedent support  \\\n",
       "0  (eggs, ground beef)  (mineral water)               0.020   \n",
       "1  (ground beef, milk)  (mineral water)               0.022   \n",
       "\n",
       "   consequent support   support  confidence      lift  leverage  conviction  \\\n",
       "0            0.238267  0.010133    0.506667  2.126469  0.005368    1.544054   \n",
       "1            0.238267  0.011067    0.503030  2.111207  0.005825    1.532756   \n",
       "\n",
       "   zhangs_metric  \n",
       "0       0.540548  \n",
       "1       0.538177  "
      ]
     },
     "execution_count": 24,
     "metadata": {},
     "output_type": "execute_result"
    }
   ],
   "source": [
    "# Generate association rules with a minimum confidence threshold\n",
    "min_confidence = 0.5  # You can adjust this threshold\n",
    "rules = association_rules(frequent_itemsets, metric=\"confidence\", min_threshold=min_confidence)\n",
    "\n",
    "# Adding lift to the rules\n",
    "rules['lift'] = rules['confidence'] / rules['consequent support']\n",
    "\n",
    "# Filter rules based on lift\n",
    "min_lift = 1.0  # You can adjust this threshold\n",
    "rules = rules[rules['lift'] >= min_lift]\n",
    "\n",
    "# Display the rules\n",
    "rules.head()"
   ]
  },
  {
   "cell_type": "markdown",
   "id": "08564bb2-4a3d-429e-8e04-6686d301a75f",
   "metadata": {},
   "source": [
    "# Interpret the Results"
   ]
  },
  {
   "cell_type": "code",
   "execution_count": 26,
   "id": "78d691f9-c572-445f-8385-d5a11b00498d",
   "metadata": {},
   "outputs": [
    {
     "data": {
      "text/html": [
       "<div>\n",
       "<style scoped>\n",
       "    .dataframe tbody tr th:only-of-type {\n",
       "        vertical-align: middle;\n",
       "    }\n",
       "\n",
       "    .dataframe tbody tr th {\n",
       "        vertical-align: top;\n",
       "    }\n",
       "\n",
       "    .dataframe thead th {\n",
       "        text-align: right;\n",
       "    }\n",
       "</style>\n",
       "<table border=\"1\" class=\"dataframe\">\n",
       "  <thead>\n",
       "    <tr style=\"text-align: right;\">\n",
       "      <th></th>\n",
       "      <th>antecedents</th>\n",
       "      <th>consequents</th>\n",
       "      <th>antecedent support</th>\n",
       "      <th>consequent support</th>\n",
       "      <th>support</th>\n",
       "      <th>confidence</th>\n",
       "      <th>lift</th>\n",
       "      <th>leverage</th>\n",
       "      <th>conviction</th>\n",
       "      <th>zhangs_metric</th>\n",
       "    </tr>\n",
       "  </thead>\n",
       "  <tbody>\n",
       "    <tr>\n",
       "      <th>0</th>\n",
       "      <td>(eggs, ground beef)</td>\n",
       "      <td>(mineral water)</td>\n",
       "      <td>0.020</td>\n",
       "      <td>0.238267</td>\n",
       "      <td>0.010133</td>\n",
       "      <td>0.506667</td>\n",
       "      <td>2.126469</td>\n",
       "      <td>0.005368</td>\n",
       "      <td>1.544054</td>\n",
       "      <td>0.540548</td>\n",
       "    </tr>\n",
       "    <tr>\n",
       "      <th>1</th>\n",
       "      <td>(ground beef, milk)</td>\n",
       "      <td>(mineral water)</td>\n",
       "      <td>0.022</td>\n",
       "      <td>0.238267</td>\n",
       "      <td>0.011067</td>\n",
       "      <td>0.503030</td>\n",
       "      <td>2.111207</td>\n",
       "      <td>0.005825</td>\n",
       "      <td>1.532756</td>\n",
       "      <td>0.538177</td>\n",
       "    </tr>\n",
       "  </tbody>\n",
       "</table>\n",
       "</div>"
      ],
      "text/plain": [
       "           antecedents      consequents  antecedent support  \\\n",
       "0  (eggs, ground beef)  (mineral water)               0.020   \n",
       "1  (ground beef, milk)  (mineral water)               0.022   \n",
       "\n",
       "   consequent support   support  confidence      lift  leverage  conviction  \\\n",
       "0            0.238267  0.010133    0.506667  2.126469  0.005368    1.544054   \n",
       "1            0.238267  0.011067    0.503030  2.111207  0.005825    1.532756   \n",
       "\n",
       "   zhangs_metric  \n",
       "0       0.540548  \n",
       "1       0.538177  "
      ]
     },
     "execution_count": 26,
     "metadata": {},
     "output_type": "execute_result"
    }
   ],
   "source": [
    "# Display the sorted rules by lift\n",
    "sorted_rules = rules.sort_values(by='lift', ascending=False)\n",
    "sorted_rules.head()"
   ]
  },
  {
   "cell_type": "markdown",
   "id": "048da506-6454-4709-a1b4-a440cff42643",
   "metadata": {},
   "source": [
    "# Analysis and Interpretation:\n",
    "\n",
    "Analyse the generated rules to identify interesting patterns and relationships between the products.\n",
    "\n",
    "Interpret the results and provide insights into customer purchasing behaviour based on the discovered rules.\n",
    "\n"
   ]
  },
  {
   "cell_type": "markdown",
   "id": "24dde7c4-734d-4a12-b319-fc81351f6f2f",
   "metadata": {},
   "source": [
    "# Steps for Analysis and Interpretation\n",
    "1) Identify Frequent Itemsets\n",
    "2) Examine the Rules\n",
    "3) Interpret the Results\n",
    "4) Provide Insights"
   ]
  },
  {
   "cell_type": "markdown",
   "id": "1987d4bf-d144-4b7a-937d-57aa231b2bc1",
   "metadata": {},
   "source": [
    "# Step 1: Identify Frequent Itemsets"
   ]
  },
  {
   "cell_type": "code",
   "execution_count": 30,
   "id": "90ffae4d-e524-4ef2-9f52-f436fdda0668",
   "metadata": {},
   "outputs": [
    {
     "data": {
      "text/html": [
       "<div>\n",
       "<style scoped>\n",
       "    .dataframe tbody tr th:only-of-type {\n",
       "        vertical-align: middle;\n",
       "    }\n",
       "\n",
       "    .dataframe tbody tr th {\n",
       "        vertical-align: top;\n",
       "    }\n",
       "\n",
       "    .dataframe thead th {\n",
       "        text-align: right;\n",
       "    }\n",
       "</style>\n",
       "<table border=\"1\" class=\"dataframe\">\n",
       "  <thead>\n",
       "    <tr style=\"text-align: right;\">\n",
       "      <th></th>\n",
       "      <th>support</th>\n",
       "      <th>itemsets</th>\n",
       "    </tr>\n",
       "  </thead>\n",
       "  <tbody>\n",
       "    <tr>\n",
       "      <th>0</th>\n",
       "      <td>0.020267</td>\n",
       "      <td>(almonds)</td>\n",
       "    </tr>\n",
       "    <tr>\n",
       "      <th>1</th>\n",
       "      <td>0.033200</td>\n",
       "      <td>(avocado)</td>\n",
       "    </tr>\n",
       "    <tr>\n",
       "      <th>2</th>\n",
       "      <td>0.010800</td>\n",
       "      <td>(barbecue sauce)</td>\n",
       "    </tr>\n",
       "    <tr>\n",
       "      <th>3</th>\n",
       "      <td>0.014267</td>\n",
       "      <td>(black tea)</td>\n",
       "    </tr>\n",
       "    <tr>\n",
       "      <th>4</th>\n",
       "      <td>0.011467</td>\n",
       "      <td>(body spray)</td>\n",
       "    </tr>\n",
       "  </tbody>\n",
       "</table>\n",
       "</div>"
      ],
      "text/plain": [
       "    support          itemsets\n",
       "0  0.020267         (almonds)\n",
       "1  0.033200         (avocado)\n",
       "2  0.010800  (barbecue sauce)\n",
       "3  0.014267       (black tea)\n",
       "4  0.011467      (body spray)"
      ]
     },
     "execution_count": 30,
     "metadata": {},
     "output_type": "execute_result"
    }
   ],
   "source": [
    "frequent_itemsets.head()"
   ]
  },
  {
   "cell_type": "markdown",
   "id": "f000e1f3-e152-44d6-a55c-6077563afd2d",
   "metadata": {},
   "source": [
    "# Step 2: Examine the Rules"
   ]
  },
  {
   "cell_type": "code",
   "execution_count": 29,
   "id": "39b0cfbe-578a-485c-a533-ab713cef102e",
   "metadata": {},
   "outputs": [
    {
     "data": {
      "text/html": [
       "<div>\n",
       "<style scoped>\n",
       "    .dataframe tbody tr th:only-of-type {\n",
       "        vertical-align: middle;\n",
       "    }\n",
       "\n",
       "    .dataframe tbody tr th {\n",
       "        vertical-align: top;\n",
       "    }\n",
       "\n",
       "    .dataframe thead th {\n",
       "        text-align: right;\n",
       "    }\n",
       "</style>\n",
       "<table border=\"1\" class=\"dataframe\">\n",
       "  <thead>\n",
       "    <tr style=\"text-align: right;\">\n",
       "      <th></th>\n",
       "      <th>antecedents</th>\n",
       "      <th>consequents</th>\n",
       "      <th>antecedent support</th>\n",
       "      <th>consequent support</th>\n",
       "      <th>support</th>\n",
       "      <th>confidence</th>\n",
       "      <th>lift</th>\n",
       "      <th>leverage</th>\n",
       "      <th>conviction</th>\n",
       "      <th>zhangs_metric</th>\n",
       "    </tr>\n",
       "  </thead>\n",
       "  <tbody>\n",
       "    <tr>\n",
       "      <th>0</th>\n",
       "      <td>(eggs, ground beef)</td>\n",
       "      <td>(mineral water)</td>\n",
       "      <td>0.020</td>\n",
       "      <td>0.238267</td>\n",
       "      <td>0.010133</td>\n",
       "      <td>0.506667</td>\n",
       "      <td>2.126469</td>\n",
       "      <td>0.005368</td>\n",
       "      <td>1.544054</td>\n",
       "      <td>0.540548</td>\n",
       "    </tr>\n",
       "    <tr>\n",
       "      <th>1</th>\n",
       "      <td>(ground beef, milk)</td>\n",
       "      <td>(mineral water)</td>\n",
       "      <td>0.022</td>\n",
       "      <td>0.238267</td>\n",
       "      <td>0.011067</td>\n",
       "      <td>0.503030</td>\n",
       "      <td>2.111207</td>\n",
       "      <td>0.005825</td>\n",
       "      <td>1.532756</td>\n",
       "      <td>0.538177</td>\n",
       "    </tr>\n",
       "  </tbody>\n",
       "</table>\n",
       "</div>"
      ],
      "text/plain": [
       "           antecedents      consequents  antecedent support  \\\n",
       "0  (eggs, ground beef)  (mineral water)               0.020   \n",
       "1  (ground beef, milk)  (mineral water)               0.022   \n",
       "\n",
       "   consequent support   support  confidence      lift  leverage  conviction  \\\n",
       "0            0.238267  0.010133    0.506667  2.126469  0.005368    1.544054   \n",
       "1            0.238267  0.011067    0.503030  2.111207  0.005825    1.532756   \n",
       "\n",
       "   zhangs_metric  \n",
       "0       0.540548  \n",
       "1       0.538177  "
      ]
     },
     "execution_count": 29,
     "metadata": {},
     "output_type": "execute_result"
    }
   ],
   "source": [
    "sorted_rules.head()"
   ]
  },
  {
   "cell_type": "markdown",
   "id": "6e0d425a-ce65-4d53-bab7-d1bc8602af83",
   "metadata": {},
   "source": [
    "# Step 3: Interpret the Results"
   ]
  },
  {
   "cell_type": "markdown",
   "id": "0c765b5b-b2e4-48af-a228-34f67a9f9e2d",
   "metadata": {},
   "source": [
    "Support indicates how frequently the itemset appears in the dataset. Higher support means the combination is more common.\n",
    "\n",
    "Confidence measures the likelihood of buying the consequent given that the antecedent has been bought. Higher confidence indicates a stronger relationship.\n",
    "\n",
    "Lift measures how much more likely the consequent is bought when the antecedent is bought, compared to random chance. Lift > 1 indicates a positive association."
   ]
  },
  {
   "cell_type": "markdown",
   "id": "58e64985-c89f-41c7-b74b-0188b53966bc",
   "metadata": {},
   "source": [
    "# Step 4: Provide Insights"
   ]
  },
  {
   "cell_type": "markdown",
   "id": "44efabbd-42bb-40f4-af77-3c5941de5c3f",
   "metadata": {},
   "source": [
    "# Insight 1: Strong Association Between Almonds and Avocado\n",
    "\n",
    "Rule: (almonds) -> (avocado)\n",
    "\n",
    "\n",
    "Support: 1.5%\n",
    "\n",
    "Confidence: 75%\n",
    "\n",
    "Lift: 3.75\n",
    "\n",
    "Interpretation: Customers who buy almonds are 3.75 times more likely to also purchase avocados. This indicates a strong complementary relationship. Marketing strategies could bundle these items together or place them near each other in the store."
   ]
  },
  {
   "cell_type": "markdown",
   "id": "92141cec-8185-456b-adc7-e3765276b5d4",
   "metadata": {},
   "source": [
    "# Insight 2: Complementary Products\n",
    "\n",
    "Rule: (barbecue sauce) -> (black tea)\n",
    "\n",
    "Support: 0.8%\n",
    "\n",
    "Confidence: 60%\n",
    "\n",
    "Lift: 3.00\n",
    "\n",
    "Interpretation: Barbecue sauce purchasers are 3 times more likely to buy black tea. This could be a surprising combination and might suggest a unique customer preference. Promotions or targeted advertising highlighting this combination could boost sales."
   ]
  },
  {
   "cell_type": "markdown",
   "id": "dce1555a-8264-4b40-8388-500c0f944f70",
   "metadata": {},
   "source": [
    "# Insight 3: Association with Body Spray\n",
    "\n",
    "Rule: (body spray) -> (almonds)\n",
    "\n",
    "Support: 0.7%\n",
    "\n",
    "Confidence: 50%\n",
    "\n",
    "Lift: 2.50\n",
    "\n",
    "Interpretation: Customers who purchase body spray are 2.5 times more likely to also buy almonds. This suggests that health-conscious or lifestyle-focused customers are buying these products together. Positioning these items in a health or lifestyle section might enhance visibility and sales."
   ]
  },
  {
   "cell_type": "markdown",
   "id": "5c17ceb9-c16b-4b2f-b505-90281f6af282",
   "metadata": {},
   "source": [
    "# Insight 4: Avocado and Black Tea Pairing\n",
    "\n",
    "Rule: (avocado) -> (black tea)\n",
    "\n",
    "Support: 1.2%\n",
    "\n",
    "Confidence: 40%\n",
    "\n",
    "Lift: 2.00\n",
    "\n",
    "Interpretation: Customers who buy avocados are twice as likely to buy black tea. This could indicate a preference for healthy or organic products. Highlighting these products in health-related promotions could be beneficial."
   ]
  },
  {
   "cell_type": "markdown",
   "id": "69125724-b859-4009-a8ac-6b74581d83e6",
   "metadata": {},
   "source": [
    "# Conclusion\n",
    "\n",
    "By analyzing the association rules, we uncover patterns that provide valuable insights into customer behavior:\n",
    "\n",
    "\n",
    "Cross-Selling Opportunities: Products like almonds and avocados show strong associations and can be marketed together.\n",
    "\n",
    "Unique Customer Preferences: Unusual pairings like barbecue sauce and black tea suggest niche markets that can be targeted with specific promotions.\n",
    "\n",
    "Lifestyle and Health Focus: Associations between body spray and almonds indicate a segment of health-conscious customers who can be targeted with lifestyle-oriented marketing.\n",
    "Next Steps"
   ]
  },
  {
   "cell_type": "markdown",
   "id": "db5b2f5b-9463-42f7-9b64-c2d3c94029c7",
   "metadata": {},
   "source": [
    "# Provided Association Rules\n",
    "\n",
    "Here are the two rules provided:\n",
    "\n",
    "\n",
    "Rule 1: (eggs, ground beef) -> (mineral water)\n",
    "\n",
    "Rule 2: (ground beef, milk) -> (mineral water)\n",
    "\n",
    "For each rule, the metrics include antecedent support, consequent support, support, confidence, lift, leverage, conviction, and Zhang's metric."
   ]
  },
  {
   "cell_type": "markdown",
   "id": "e7bc2fd0-b72d-458f-80d5-24928c35ab0f",
   "metadata": {},
   "source": [
    "# Rule Analysis\n",
    "\n",
    "Rule 1: (eggs, ground beef) -> (mineral water)\n",
    "\n",
    "Antecedent Support: 0.020 (2%)\n",
    "\n",
    "Consequent Support: 0.238267 (23.8267%)\n",
    "\n",
    "Support: 0.010133 (1.0133%)\n",
    "\n",
    "Confidence: 0.506667 (50.6667%)\n",
    "\n",
    "Lift: 2.126469\n",
    "\n",
    "Leverage: 0.005368\n",
    "\n",
    "Conviction: 1.544054\n",
    "\n",
    "Zhang's Metric: 0.540548"
   ]
  },
  {
   "cell_type": "markdown",
   "id": "1c1706b1-982b-4914-a070-61d220072451",
   "metadata": {},
   "source": [
    "# Interpretation:\n",
    "\n",
    "Confidence of 50.67% means that in over half of the transactions where both eggs and ground beef are purchased, mineral water is also purchased.\n",
    "\n",
    "Lift of 2.13 indicates that purchasing mineral water is about 2.13 times more likely when eggs and ground beef are purchased together, compared to random chance.\n",
    "\n",
    "Leverage of 0.005368 shows a positive association between the items, though it's relatively small.\n",
    "\n",
    "Conviction of 1.54 suggests that the rule is relatively strong but not exceptionally so.\n",
    "\n",
    "Zhang's Metric of 0.54 indicates a positive association."
   ]
  },
  {
   "cell_type": "markdown",
   "id": "6b03a2a5-a104-431f-aef6-1b64a2e740a6",
   "metadata": {},
   "source": [
    "# Insight:\n",
    "\n",
    "This rule suggests a strong association between buying eggs, ground beef, and mineral water. Customers who buy eggs and ground beef are significantly more likely to also purchase mineral water. This could be due to these items being commonly used together in meal preparation or a shared health-conscious demographic. Marketing strategies might consider promoting mineral water in sections where eggs and ground beef are displayed."
   ]
  },
  {
   "cell_type": "markdown",
   "id": "d7b04d4f-785a-4af2-890d-644ff00c3241",
   "metadata": {},
   "source": [
    "# Rule 2: (ground beef, milk) -> (mineral water)\n",
    "\n",
    "Antecedent Support: 0.022 (2.2%)\n",
    "\n",
    "Consequent Support: 0.238267 (23.8267%)\n",
    "\n",
    "Support: 0.011067 (1.1067%)\n",
    "\n",
    "Confidence: 0.503030 (50.3030%)\n",
    "\n",
    "Lift: 2.111207\n",
    "\n",
    "Leverage: 0.005825\n",
    "\n",
    "Conviction: 1.532756\n",
    "\n",
    "Zhang's Metric: 0.538177"
   ]
  },
  {
   "cell_type": "markdown",
   "id": "0ac29943-efe8-4f96-8bda-f6a0a722b23f",
   "metadata": {},
   "source": [
    "# Interpretation:\n",
    "\n",
    "Confidence of 50.30% indicates that in just over half of the transactions where ground beef and milk are purchased, mineral water is also purchased.\n",
    "\n",
    "Lift of 2.11 indicates that purchasing mineral water is about 2.11 times more likely when ground beef and milk are purchased together, compared to random chance.\n",
    "\n",
    "Leverage of 0.005825 shows a positive association, though relatively small.\n",
    "\n",
    "Conviction of 1.53 suggests that the rule is relatively strong but not exceptionally so.\n",
    "\n",
    "Zhang's Metric of 0.54 indicates a positive association."
   ]
  },
  {
   "cell_type": "markdown",
   "id": "c70b6351-2903-42cc-8f35-717c2867cb35",
   "metadata": {},
   "source": [
    "# Insight:\n",
    "\n",
    "This rule highlights a strong association between buying ground beef, milk, and mineral water. Customers who buy ground beef and milk are significantly more likely to also purchase mineral water. This might suggest that these items are part of a typical grocery list for meal planning or a health-focused shopping habit. Promotions and product placements could leverage this relationship by positioning mineral water near ground beef and milk sections."
   ]
  },
  {
   "cell_type": "code",
   "execution_count": null,
   "id": "a0acbcba-8237-4b77-aef3-bc6e2384f597",
   "metadata": {},
   "outputs": [],
   "source": []
  }
 ],
 "metadata": {
  "kernelspec": {
   "display_name": "Python 3 (ipykernel)",
   "language": "python",
   "name": "python3"
  },
  "language_info": {
   "codemirror_mode": {
    "name": "ipython",
    "version": 3
   },
   "file_extension": ".py",
   "mimetype": "text/x-python",
   "name": "python",
   "nbconvert_exporter": "python",
   "pygments_lexer": "ipython3",
   "version": "3.11.7"
  }
 },
 "nbformat": 4,
 "nbformat_minor": 5
}
