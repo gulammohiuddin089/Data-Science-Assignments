{
 "cells": [
  {
   "cell_type": "markdown",
   "id": "4cb8dfb6-fa41-4fd5-83f5-f1573bd216af",
   "metadata": {},
   "source": [
    "# Chi-Square test\n"
   ]
  },
  {
   "cell_type": "markdown",
   "id": "f59269ab-7866-4ba0-85cf-18e01142fccd",
   "metadata": {},
   "source": [
    "# Data Provided:\n",
    "\n",
    "The data is summarized in a contingency table showing the counts of customers in each satisfaction level for both types of devices:\n",
    "\n",
    "Satisfaction\tSmart Thermostat\tSmart Light\tTotal\n",
    "\n",
    "Very Satisfied\t50\t70\t120\n",
    "\n",
    "Satisfied\t80\t100\t180\n",
    "\n",
    "Neutral\t60\t90\t150\n",
    "\n",
    "Unsatisfied\t30\t50\t80\n",
    "\n",
    "Very Unsatisfied\t20\t50\t70\n",
    "\n",
    "Total\t240\t360\t600\n",
    "\n",
    "# Objective:\n",
    "\n",
    "To use the Chi-Square test for independence to determine if there's a significant association between the type of smart home device purchased (Smart Thermostats vs. Smart Lights) and the customer satisfaction level.\n"
   ]
  },
  {
   "cell_type": "markdown",
   "id": "b7be7be9-7365-4d7a-90f8-e700902198de",
   "metadata": {},
   "source": [
    "# 1. State the Hypotheses:\n"
   ]
  },
  {
   "cell_type": "code",
   "execution_count": 3,
   "id": "d36c44fc-aca2-4a87-b7c0-b490fc329ee1",
   "metadata": {},
   "outputs": [
    {
     "name": "stdout",
     "output_type": "stream",
     "text": [
      "H0: There is no association between the type of smart home device and customer satisfaction level.\n",
      "Ha: There is an association between the type of smart home device and customer satisfaction level.\n"
     ]
    }
   ],
   "source": [
    "# Define the hypotheses as strings\n",
    "null_hypothesis = \"H0: There is no association between the type of smart home device and customer satisfaction level.\"\n",
    "alternative_hypothesis = \"Ha: There is an association between the type of smart home device and customer satisfaction level.\"\n",
    "\n",
    "# Print the hypotheses\n",
    "print(null_hypothesis)\n",
    "print(alternative_hypothesis)"
   ]
  },
  {
   "cell_type": "markdown",
   "id": "06db337c-c2e6-486e-97aa-4163eaab0f01",
   "metadata": {},
   "source": [
    "# 2. Compute the Chi-Square Statistic:\n"
   ]
  },
  {
   "cell_type": "code",
   "execution_count": 5,
   "id": "6a15dd46-b780-47d7-a646-90e0cc56fbc3",
   "metadata": {
    "scrolled": true
   },
   "outputs": [
    {
     "name": "stdout",
     "output_type": "stream",
     "text": [
      "Chi-Square Statistic: 5.638227513227513\n"
     ]
    }
   ],
   "source": [
    "import numpy as np\n",
    "\n",
    "# Observed frequencies from the contingency table\n",
    "observed_frequencies = np.array([\n",
    "    [50, 70],\n",
    "    [80, 100],\n",
    "    [60, 90],\n",
    "    [30, 50],\n",
    "    [20, 50]\n",
    "])\n",
    "\n",
    "# Calculate expected frequencies\n",
    "row_totals = observed_frequencies.sum(axis=1)\n",
    "col_totals = observed_frequencies.sum(axis=0)\n",
    "total = observed_frequencies.sum()\n",
    "\n",
    "expected_frequencies = np.outer(row_totals, col_totals) / total\n",
    "\n",
    "# Compute Chi-Square statistic for each cell\n",
    "chi_square_values = ((observed_frequencies - expected_frequencies) ** 2) / expected_frequencies\n",
    "\n",
    "# Sum up all Chi-Square values to get the total Chi-Square statistic\n",
    "chi_square_statistic = chi_square_values.sum()\n",
    "\n",
    "print(\"Chi-Square Statistic:\", chi_square_statistic)"
   ]
  },
  {
   "cell_type": "markdown",
   "id": "2577e995-d426-469f-9c2b-716a205c47ab",
   "metadata": {},
   "source": [
    "# 3. Determine the Critical Value:\n",
    "Using the significance level (alpha) of 0.05 and the degrees of freedom (which is the number of categories minus 1)\n"
   ]
  },
  {
   "cell_type": "code",
   "execution_count": 6,
   "id": "c3a83be4-4524-4679-b714-2562c7782498",
   "metadata": {},
   "outputs": [
    {
     "name": "stdout",
     "output_type": "stream",
     "text": [
      "Critical Value: 9.487729036781154\n"
     ]
    }
   ],
   "source": [
    "from scipy.stats import chi2\n",
    "\n",
    "# Significance level (alpha)\n",
    "alpha = 0.05\n",
    "\n",
    "# Degrees of freedom (number of categories minus 1)\n",
    "degrees_of_freedom = (5 - 1) * (2 - 1)\n",
    "\n",
    "# Calculate the critical value\n",
    "critical_value = chi2.ppf(1 - alpha, degrees_of_freedom)\n",
    "\n",
    "print(\"Critical Value:\", critical_value)"
   ]
  },
  {
   "cell_type": "markdown",
   "id": "befb9ea1-9c8a-4487-9c8b-577efd7f02b8",
   "metadata": {},
   "source": [
    "Since \n",
    "5.64 is less than \n",
    "9.488, we fail to reject the null hypothesis."
   ]
  },
  {
   "cell_type": "markdown",
   "id": "fb29ce82-eb6e-4fe4-a7c6-649c3aa45a87",
   "metadata": {},
   "source": [
    "# 4. Make a Decision:\n"
   ]
  },
  {
   "cell_type": "markdown",
   "id": "58f26de0-2eee-42af-824d-6959116aa2c7",
   "metadata": {},
   "source": [
    "# Decision:\n",
    "\n",
    "We do not have enough evidence to reject the null hypothesis. Therefore, we conclude that there is no significant association between the type of smart home device and customer satisfaction levels at the \n",
    "0.05 significance level.\n",
    "\n",
    "This means that we cannot conclude that there is a difference in satisfaction levels between Smart Thermostats and Smart Lights based on the data provided."
   ]
  },
  {
   "cell_type": "code",
   "execution_count": null,
   "id": "1952f62a-5473-44f3-b997-899b2df68396",
   "metadata": {},
   "outputs": [],
   "source": []
  }
 ],
 "metadata": {
  "kernelspec": {
   "display_name": "Python 3 (ipykernel)",
   "language": "python",
   "name": "python3"
  },
  "language_info": {
   "codemirror_mode": {
    "name": "ipython",
    "version": 3
   },
   "file_extension": ".py",
   "mimetype": "text/x-python",
   "name": "python",
   "nbconvert_exporter": "python",
   "pygments_lexer": "ipython3",
   "version": "3.11.7"
  }
 },
 "nbformat": 4,
 "nbformat_minor": 5
}
