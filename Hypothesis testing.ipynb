{
 "cells": [
  {
   "cell_type": "markdown",
   "id": "df8e5e77-d7d5-48e5-8ffd-6f52a66f01c9",
   "metadata": {},
   "source": [
    "# Testing\n",
    "\n",
    "# Background:\n",
    "\n",
    "Bombay hospitality Ltd. operates a franchise model for producing exotic Norwegian dinners throughout New England. The operating cost for a franchise in a week (W) is given by the equation W = $1,000 + $5X, where X represents the number of units produced in a week. Recent feedback from restaurant owners suggests that this cost model may no longer be accurate, as their observed weekly operating costs are higher.\n",
    "\n",
    "# Objective:\n",
    "To investigate the restaurant owners' claim about the increase in weekly operating costs using hypothesis testing.\n",
    "\n",
    "# Data Provided:\n",
    "\n",
    "The theoretical weekly operating cost model: W = $1,000 + $5X\n",
    "\n",
    "Sample of 25 restaurants with a mean weekly cost of Rs. 3,050\n",
    "\n",
    "Number of units produced in a week (X) follows a normal distribution with a mean (μ) of 600 units and a standard deviation (σ) of 25 units\n"
   ]
  },
  {
   "cell_type": "markdown",
   "id": "be385817-7847-4b82-9969-3c293c2cda25",
   "metadata": {},
   "source": [
    "# Assignment Tasks::\r\n"
   ]
  },
  {
   "cell_type": "markdown",
   "id": "ffd5598f-20d3-4ce8-be83-714135e3dc40",
   "metadata": {},
   "source": [
    "# 1. State the Hypotheses statement:\n"
   ]
  },
  {
   "cell_type": "code",
   "execution_count": 2,
   "id": "cf783637-90ab-4f8b-beb9-d4605ff96a79",
   "metadata": {},
   "outputs": [],
   "source": [
    "# Null Hypothesis (H0): The mean weekly operating costs, as per the current cost model, have not increased.\n",
    "H0 = \"The mean weekly operating costs have not increased (μ = $4,000)\"\n",
    "\n",
    "# Alternative Hypothesis (H1): The mean weekly operating costs have increased compared to what the current cost model predicts.\n",
    "H1 = \"The mean weekly operating costs have increased (μ > $4,000)\""
   ]
  },
  {
   "cell_type": "markdown",
   "id": "ebe7e6cc-d257-4b20-bb0a-47ac3d715e08",
   "metadata": {},
   "source": [
    "# 2. Calculate the Test Statistic:\n",
    "\n",
    "Use the following formula to calculate the test statistic (t):\n",
    "\n",
    "where:\n",
    "\n",
    "ˉxˉ = sample mean weekly cost (Rs. 3,050)\n",
    "\n",
    "μ = theoretical mean weekly cost according to the cost model (W = $1,000 + $5X for X = 600 units)\n",
    "\n",
    "σ = 5*25 units\n",
    "\n",
    "n = sample size (25 restaurants)\n"
   ]
  },
  {
   "cell_type": "code",
   "execution_count": 3,
   "id": "43283b5f-52b2-44cc-9b16-35cc9b50cfad",
   "metadata": {},
   "outputs": [
    {
     "name": "stdout",
     "output_type": "stream",
     "text": [
      "Test Statistic (t): -38.0\n"
     ]
    }
   ],
   "source": [
    "import math\n",
    "\n",
    "# Given values\n",
    "sample_mean = 3050\n",
    "theoretical_mean = 4000\n",
    "sample_std_dev = 5 * 25  # σ = 5*25 units\n",
    "sample_size = 25\n",
    "\n",
    "# Calculate the test statistic (t)\n",
    "t = (sample_mean - theoretical_mean) / (sample_std_dev / math.sqrt(sample_size))\n",
    "print(\"Test Statistic (t):\", t)"
   ]
  },
  {
   "cell_type": "markdown",
   "id": "bff35a23-6be4-43b8-b897-f39b7a755e6c",
   "metadata": {},
   "source": [
    "# 3. Determine the Critical Value:\n",
    "\n",
    "Using the alpha level of 5% (α = 0.05), determine the critical value from the standard normal (Z) distribution table.\n"
   ]
  },
  {
   "cell_type": "code",
   "execution_count": 4,
   "id": "4c6b8079-c883-4fba-ad37-67f36c9e97f4",
   "metadata": {},
   "outputs": [
    {
     "name": "stdout",
     "output_type": "stream",
     "text": [
      "Critical Value: 1.645\n"
     ]
    }
   ],
   "source": [
    "# Given significance level (alpha)\n",
    "alpha = 0.05\n",
    "\n",
    "# Find the critical value from the standard normal (Z) distribution table\n",
    "critical_value = 1.645  # for upper tail area of 0.05\n",
    "\n",
    "print(\"Critical Value:\", critical_value)"
   ]
  },
  {
   "cell_type": "markdown",
   "id": "e8cf7c4e-a599-4074-aa1b-e80c81059ab4",
   "metadata": {},
   "source": [
    "# 4. Make a Decision:\n",
    "\n",
    "# Compare the test statistic with the critical value to decide whether to reject the null hypothesis.\n"
   ]
  },
  {
   "cell_type": "markdown",
   "id": "ab8b35bd-a2d5-4f3b-9a5f-b45ac067aa92",
   "metadata": {},
   "source": [
    "Since the absolute value of the test statistic (38.0) is far greater than the critical value (1.645), we reject the null hypothesis at the 5% significance level.\n",
    "\n",
    "Rejecting the null hypothesis indicates that there is strong evidence to suggest that the mean weekly operating costs have increased significantly compared to what the current cost model predicts.\n",
    "\n",
    "Therefore, based on the results of the hypothesis test, we conclude that there is a significant difference between the observed mean weekly operating costs and the theoretical mean predicted by the current cost model."
   ]
  },
  {
   "cell_type": "markdown",
   "id": "c73a6e97-8a3b-4b11-9a60-cf2415a550a5",
   "metadata": {},
   "source": [
    "# 5. Conclusion:\n",
    "\n",
    "Based on the decision in step 4, conclude whether there is strong evidence to support the restaurant owners' claim that the weekly operating costs are higher than the model suggests.\n"
   ]
  },
  {
   "cell_type": "markdown",
   "id": "394113fb-c743-40a4-97a9-34b0fd35ac6e",
   "metadata": {},
   "source": [
    "Based on the decision to reject the null hypothesis in step 4, there is indeed strong evidence to support the restaurant owners' claim that the weekly operating costs are higher than what the model suggests."
   ]
  },
  {
   "cell_type": "markdown",
   "id": "eb19cdf6-a43b-46ba-b88b-c72fc94cbc53",
   "metadata": {},
   "source": [
    "Therefore, the conclusion is that the observed mean weekly operating costs are significantly higher than what is predicted by the current cost model. This supports the restaurant owners' claim and suggests that adjustments to the cost model may be necessary to more accurately reflect the actual operating costs."
   ]
  },
  {
   "cell_type": "code",
   "execution_count": null,
   "id": "d8b7a976-d06e-44ed-b50f-8a4bb413c329",
   "metadata": {},
   "outputs": [],
   "source": []
  }
 ],
 "metadata": {
  "kernelspec": {
   "display_name": "Python 3 (ipykernel)",
   "language": "python",
   "name": "python3"
  },
  "language_info": {
   "codemirror_mode": {
    "name": "ipython",
    "version": 3
   },
   "file_extension": ".py",
   "mimetype": "text/x-python",
   "name": "python",
   "nbconvert_exporter": "python",
   "pygments_lexer": "ipython3",
   "version": "3.11.7"
  }
 },
 "nbformat": 4,
 "nbformat_minor": 5
}
